{
 "cells": [
  {
   "cell_type": "code",
   "execution_count": 1,
   "metadata": {},
   "outputs": [
    {
     "name": "stdout",
     "output_type": "stream",
     "text": [
      "/bin/bash: pip: command not found\n",
      "/bin/bash: pip: command not found\n",
      "/bin/bash: pip: command not found\n"
     ]
    }
   ],
   "source": [
    "%pip install pandas\n",
    "%pip install numpy\n",
    "%pip install matplotlib\n"
   ]
  },
  {
   "cell_type": "code",
   "execution_count": 4,
   "metadata": {},
   "outputs": [],
   "source": [
    "import openpyxl \n",
    "import pandas as pd\n",
    "import io "
   ]
  },
  {
   "cell_type": "code",
   "execution_count": 8,
   "metadata": {},
   "outputs": [
    {
     "name": "stdout",
     "output_type": "stream",
     "text": [
      "<class 'pandas.core.frame.DataFrame'>\n",
      "Int64Index: 3337 entries, 291 to 254\n",
      "Data columns (total 8 columns):\n",
      " #   Column        Non-Null Count  Dtype         \n",
      "---  ------        --------------  -----         \n",
      " 0   Referencia    3337 non-null   int64         \n",
      " 1   Fecha Alta    3337 non-null   datetime64[ns]\n",
      " 2   Tipo          3337 non-null   object        \n",
      " 3   Operación     3337 non-null   object        \n",
      " 4   Provincia     3337 non-null   object        \n",
      " 5   Precio Venta  3337 non-null   int64         \n",
      " 6   Fecha Venta   2759 non-null   datetime64[ns]\n",
      " 7   Vendedor      2759 non-null   object        \n",
      "dtypes: datetime64[ns](2), int64(2), object(4)\n",
      "memory usage: 234.6+ KB\n"
     ]
    },
    {
     "data": {
      "text/html": [
       "<div>\n",
       "<style scoped>\n",
       "    .dataframe tbody tr th:only-of-type {\n",
       "        vertical-align: middle;\n",
       "    }\n",
       "\n",
       "    .dataframe tbody tr th {\n",
       "        vertical-align: top;\n",
       "    }\n",
       "\n",
       "    .dataframe thead th {\n",
       "        text-align: right;\n",
       "    }\n",
       "</style>\n",
       "<table border=\"1\" class=\"dataframe\">\n",
       "  <thead>\n",
       "    <tr style=\"text-align: right;\">\n",
       "      <th></th>\n",
       "      <th>Referencia</th>\n",
       "      <th>Fecha Alta</th>\n",
       "      <th>Tipo</th>\n",
       "      <th>Operación</th>\n",
       "      <th>Provincia</th>\n",
       "      <th>Precio Venta</th>\n",
       "      <th>Fecha Venta</th>\n",
       "      <th>Vendedor</th>\n",
       "    </tr>\n",
       "    <tr>\n",
       "      <th>Superficie</th>\n",
       "      <th></th>\n",
       "      <th></th>\n",
       "      <th></th>\n",
       "      <th></th>\n",
       "      <th></th>\n",
       "      <th></th>\n",
       "      <th></th>\n",
       "      <th></th>\n",
       "    </tr>\n",
       "  </thead>\n",
       "  <tbody>\n",
       "    <tr>\n",
       "      <th>291</th>\n",
       "      <td>1</td>\n",
       "      <td>2004-01-01</td>\n",
       "      <td>Parking</td>\n",
       "      <td>Alquiler</td>\n",
       "      <td>Lleida</td>\n",
       "      <td>2133903</td>\n",
       "      <td>2004-06-19</td>\n",
       "      <td>Carmen</td>\n",
       "    </tr>\n",
       "    <tr>\n",
       "      <th>199</th>\n",
       "      <td>2</td>\n",
       "      <td>2004-01-01</td>\n",
       "      <td>Local</td>\n",
       "      <td>Venta</td>\n",
       "      <td>Girona</td>\n",
       "      <td>1945424</td>\n",
       "      <td>2004-04-19</td>\n",
       "      <td>Pedro</td>\n",
       "    </tr>\n",
       "    <tr>\n",
       "      <th>82</th>\n",
       "      <td>3</td>\n",
       "      <td>2004-01-01</td>\n",
       "      <td>Oficina</td>\n",
       "      <td>Alquiler</td>\n",
       "      <td>Girona</td>\n",
       "      <td>712416</td>\n",
       "      <td>2004-11-08</td>\n",
       "      <td>Joaquín</td>\n",
       "    </tr>\n",
       "    <tr>\n",
       "      <th>285</th>\n",
       "      <td>4</td>\n",
       "      <td>2004-01-02</td>\n",
       "      <td>Parking</td>\n",
       "      <td>Alquiler</td>\n",
       "      <td>Girona</td>\n",
       "      <td>1815450</td>\n",
       "      <td>2004-04-27</td>\n",
       "      <td>Jesús</td>\n",
       "    </tr>\n",
       "    <tr>\n",
       "      <th>152</th>\n",
       "      <td>5</td>\n",
       "      <td>2004-01-02</td>\n",
       "      <td>Suelo</td>\n",
       "      <td>Venta</td>\n",
       "      <td>Tarragona</td>\n",
       "      <td>1138024</td>\n",
       "      <td>2004-07-10</td>\n",
       "      <td>María</td>\n",
       "    </tr>\n",
       "    <tr>\n",
       "      <th>...</th>\n",
       "      <td>...</td>\n",
       "      <td>...</td>\n",
       "      <td>...</td>\n",
       "      <td>...</td>\n",
       "      <td>...</td>\n",
       "      <td>...</td>\n",
       "      <td>...</td>\n",
       "      <td>...</td>\n",
       "    </tr>\n",
       "    <tr>\n",
       "      <th>221</th>\n",
       "      <td>3333</td>\n",
       "      <td>2007-04-29</td>\n",
       "      <td>Industrial</td>\n",
       "      <td>Alquiler</td>\n",
       "      <td>Lleida</td>\n",
       "      <td>1450644</td>\n",
       "      <td>NaT</td>\n",
       "      <td>NaN</td>\n",
       "    </tr>\n",
       "    <tr>\n",
       "      <th>55</th>\n",
       "      <td>3334</td>\n",
       "      <td>2007-04-29</td>\n",
       "      <td>Piso</td>\n",
       "      <td>Alquiler</td>\n",
       "      <td>Girona</td>\n",
       "      <td>454080</td>\n",
       "      <td>NaT</td>\n",
       "      <td>NaN</td>\n",
       "    </tr>\n",
       "    <tr>\n",
       "      <th>78</th>\n",
       "      <td>3335</td>\n",
       "      <td>2007-04-30</td>\n",
       "      <td>Suelo</td>\n",
       "      <td>Venta</td>\n",
       "      <td>Tarragona</td>\n",
       "      <td>740688</td>\n",
       "      <td>NaT</td>\n",
       "      <td>NaN</td>\n",
       "    </tr>\n",
       "    <tr>\n",
       "      <th>88</th>\n",
       "      <td>3336</td>\n",
       "      <td>2007-04-30</td>\n",
       "      <td>Piso</td>\n",
       "      <td>Alquiler</td>\n",
       "      <td>Barcelona</td>\n",
       "      <td>397408</td>\n",
       "      <td>NaT</td>\n",
       "      <td>NaN</td>\n",
       "    </tr>\n",
       "    <tr>\n",
       "      <th>254</th>\n",
       "      <td>3337</td>\n",
       "      <td>2007-04-30</td>\n",
       "      <td>Parking</td>\n",
       "      <td>Venta</td>\n",
       "      <td>Lleida</td>\n",
       "      <td>2140712</td>\n",
       "      <td>NaT</td>\n",
       "      <td>NaN</td>\n",
       "    </tr>\n",
       "  </tbody>\n",
       "</table>\n",
       "<p>3337 rows × 8 columns</p>\n",
       "</div>"
      ],
      "text/plain": [
       "            Referencia Fecha Alta        Tipo Operación  Provincia  \\\n",
       "Superficie                                                           \n",
       "291                  1 2004-01-01     Parking  Alquiler     Lleida   \n",
       "199                  2 2004-01-01       Local     Venta     Girona   \n",
       "82                   3 2004-01-01     Oficina  Alquiler     Girona   \n",
       "285                  4 2004-01-02     Parking  Alquiler     Girona   \n",
       "152                  5 2004-01-02       Suelo     Venta  Tarragona   \n",
       "...                ...        ...         ...       ...        ...   \n",
       "221               3333 2007-04-29  Industrial  Alquiler     Lleida   \n",
       "55                3334 2007-04-29        Piso  Alquiler     Girona   \n",
       "78                3335 2007-04-30       Suelo     Venta  Tarragona   \n",
       "88                3336 2007-04-30        Piso  Alquiler  Barcelona   \n",
       "254               3337 2007-04-30     Parking     Venta     Lleida   \n",
       "\n",
       "            Precio Venta Fecha Venta Vendedor  \n",
       "Superficie                                     \n",
       "291              2133903  2004-06-19   Carmen  \n",
       "199              1945424  2004-04-19    Pedro  \n",
       "82                712416  2004-11-08  Joaquín  \n",
       "285              1815450  2004-04-27    Jesús  \n",
       "152              1138024  2004-07-10    María  \n",
       "...                  ...         ...      ...  \n",
       "221              1450644         NaT      NaN  \n",
       "55                454080         NaT      NaN  \n",
       "78                740688         NaT      NaN  \n",
       "88                397408         NaT      NaN  \n",
       "254              2140712         NaT      NaN  \n",
       "\n",
       "[3337 rows x 8 columns]"
      ]
     },
     "execution_count": 8,
     "metadata": {},
     "output_type": "execute_result"
    }
   ],
   "source": [
    "#df = pd.read_csv(io.BytesIO(uploaded['Inmuebles.xlsx']), index_col=2) \n",
    "df = pd.read_excel('Inmuebles.xlsx', index_col=5) \n",
    "df.info()\n",
    "df"
   ]
  },
  {
   "cell_type": "code",
   "execution_count": 12,
   "metadata": {},
   "outputs": [],
   "source": [
    "filtro1=df[df[\"Operación\"] == \"Venta\"]\n",
    "filtro1 \n",
    "filtro1.to_csv(\"Filtro1\")"
   ]
  },
  {
   "cell_type": "code",
   "execution_count": 14,
   "metadata": {},
   "outputs": [],
   "source": [
    "filtro2= df.iloc[1:100,: ]\n",
    "filtro2\n",
    "filtro1.to_csv(\"Filtro2\")"
   ]
  },
  {
   "cell_type": "code",
   "execution_count": 19,
   "metadata": {},
   "outputs": [],
   "source": [
    "filtro3=df[(df[\"Operación\"] == \"Venta\") & (df[\"Tipo\"] == \"Oficina\")]\n",
    "filtro3\n",
    "filtro3.to_csv(\"Filtro3\")"
   ]
  },
  {
   "cell_type": "code",
   "execution_count": 23,
   "metadata": {},
   "outputs": [],
   "source": [
    "filtro4=df[(df[\"Provincia\"] == \"Barcelona\") & (df[\"Vendedor\"] == \"Carmen\")]\n",
    "filtro4\n",
    "filtro4.to_csv(\"Filtro4.csv\")"
   ]
  },
  {
   "cell_type": "code",
   "execution_count": 28,
   "metadata": {},
   "outputs": [],
   "source": [
    "#Filtro por columnas\n",
    "filtro5=df.iloc[ : , 2:7]\n",
    "#filtro3=df.iloc[ : , [1,4,6]]  #columnas no consecutivas \n",
    "filtro5 \n",
    "filtro5.to_csv(\"Filtro5.csv\")"
   ]
  },
  {
   "cell_type": "code",
   "execution_count": 30,
   "metadata": {},
   "outputs": [],
   "source": [
    "#Filtro por cabecera\n",
    "filtro6=df.head(5)\n",
    "filtro6\n",
    "filtro6.to_csv(\"Filtro6.csv\")"
   ]
  },
  {
   "cell_type": "code",
   "execution_count": null,
   "metadata": {},
   "outputs": [],
   "source": [
    "filtro7=df.loc[[\"Suelo\",\"Durango\"], [\"Poblacion_ocupada_en_la_industria_manufacturera\"]]\n",
    "filtro7"
   ]
  }
 ],
 "metadata": {
  "kernelspec": {
   "display_name": "Python 3.10.6 64-bit",
   "language": "python",
   "name": "python3"
  },
  "language_info": {
   "codemirror_mode": {
    "name": "ipython",
    "version": 3
   },
   "file_extension": ".py",
   "mimetype": "text/x-python",
   "name": "python",
   "nbconvert_exporter": "python",
   "pygments_lexer": "ipython3",
   "version": "3.10.6"
  },
  "orig_nbformat": 4,
  "vscode": {
   "interpreter": {
    "hash": "aee8b7b246df8f9039afb4144a1f6fd8d2ca17a180786b69acc140d282b71a49"
   }
  }
 },
 "nbformat": 4,
 "nbformat_minor": 2
}
